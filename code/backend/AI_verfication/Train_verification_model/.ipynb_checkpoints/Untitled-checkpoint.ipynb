{
 "cells": [
  {
   "cell_type": "code",
   "execution_count": 1,
   "id": "e95d30af",
   "metadata": {},
   "outputs": [
    {
     "name": "stdout",
     "output_type": "stream",
     "text": [
      "Collecting labelImg\n",
      "  Downloading labelImg-1.8.6.tar.gz (247 kB)\n",
      "  Preparing metadata (setup.py): started\n",
      "  Preparing metadata (setup.py): finished with status 'done'\n",
      "Collecting pyqt5\n",
      "  Downloading PyQt5-5.15.6-cp36-abi3-win_amd64.whl (6.7 MB)\n",
      "Collecting lxml\n",
      "  Downloading lxml-5.3.0-cp36-cp36m-win_amd64.whl (3.9 MB)\n",
      "Collecting PyQt5-Qt5>=5.15.2\n",
      "  Downloading PyQt5_Qt5-5.15.2-py3-none-win_amd64.whl (50.1 MB)\n",
      "Collecting PyQt5-sip<13,>=12.8\n",
      "  Downloading PyQt5_sip-12.9.1-cp36-cp36m-win_amd64.whl (83 kB)\n",
      "Building wheels for collected packages: labelImg\n",
      "  Building wheel for labelImg (setup.py): started\n",
      "  Building wheel for labelImg (setup.py): finished with status 'done'\n",
      "  Created wheel for labelImg: filename=labelImg-1.8.6-py2.py3-none-any.whl size=261544 sha256=01d0c007610db82054fd85df87f48ffb69b82a8cd5882343269c907e5b753f0b\n",
      "  Stored in directory: c:\\users\\hf\\appdata\\local\\pip\\cache\\wheels\\35\\6f\\d6\\f96de77faaf1eab00bfe865ebe8806d3f790d609e4d7a15f50\n",
      "Successfully built labelImg\n",
      "Installing collected packages: PyQt5-sip, PyQt5-Qt5, pyqt5, lxml, labelImg\n",
      "Successfully installed PyQt5-Qt5-5.15.2 PyQt5-sip-12.9.1 labelImg-1.8.6 lxml-5.3.0 pyqt5-5.15.6\n"
     ]
    }
   ],
   "source": [
    "!pip install labelImg\n"
   ]
  },
  {
   "cell_type": "code",
   "execution_count": 5,
   "id": "574711c5",
   "metadata": {},
   "outputs": [
    {
     "name": "stdout",
     "output_type": "stream",
     "text": [
      "Resizing completed and images saved in: Dataset/resized\n"
     ]
    }
   ],
   "source": [
    "import os\n",
    "from PIL import Image\n",
    "\n",
    "# Specify the directory containing the original images\n",
    "# Specify the directory containing the original images\n",
    "input_dir = 'Dataset/'\n",
    "# Specify the directory to save the resized images\n",
    "output_dir = 'Dataset/resized'\n",
    "# Desired size\n",
    "new_size = (640, 640)\n",
    "\n",
    "# Create the output directory if it doesn't exist\n",
    "os.makedirs(output_dir, exist_ok=True)\n",
    "\n",
    "for filename in os.listdir(input_dir):\n",
    "    if filename.endswith(('.png', '.jpg', '.jpeg')):\n",
    "        img_path = os.path.join(input_dir, filename)\n",
    "        with Image.open(img_path) as img:\n",
    "            # Calculate the new size maintaining the aspect ratio\n",
    "            img.thumbnail(new_size, Image.ANTIALIAS)\n",
    "            # Create a new blank image with the desired size\n",
    "            new_img = Image.new(\"RGB\", new_size, (255, 255, 255))\n",
    "            # Paste the resized image onto the blank image\n",
    "            new_img.paste(img, ((new_size[0] - img.width) // 2, (new_size[1] - img.height) // 2))\n",
    "            # Save the new image\n",
    "            new_img.save(os.path.join(output_dir, filename))\n",
    "\n",
    "print(\"Resizing completed and images saved in:\", output_dir)\n"
   ]
  },
  {
   "cell_type": "code",
   "execution_count": 3,
   "id": "b43c83a1",
   "metadata": {},
   "outputs": [
    {
     "name": "stderr",
     "output_type": "stream",
     "text": [
      "  ERROR: Error [WinError 225] Operation did not complete successfully because the file contains a virus or potentially unwanted software while executing command 'C:\\Users\\HF\\anaconda3\\envs\\zyx\\python.exe' 'C:\\Users\\HF\\anaconda3\\envs\\zyx\\lib\\site-packages\\pip' install --ignore-installed --no-user --prefix 'C:\\Users\\HF\\AppData\\Local\\Temp\\pip-build-env-xgjuw94a\\overlay' --no-warn-script-location --no-binary :none: --only-binary :none: -i https://pypi.org/simple -- 'cmake>=3.1' 'numpy==1.13.3; python_version=='\"'\"'3.6'\"'\"' and platform_machine != '\"'\"'aarch64'\"'\"' and platform_machine != '\"'\"'arm64'\"'\"'' 'numpy==1.17.0; python_version=='\"'\"'3.7'\"'\"' and platform_machine != '\"'\"'aarch64'\"'\"' and platform_machine != '\"'\"'arm64'\"'\"'' 'numpy==1.17.5; python_version=='\"'\"'3.8'\"'\"' and platform_machine != '\"'\"'aarch64'\"'\"' and platform_machine != '\"'\"'arm64'\"'\"'' 'numpy==1.19.3; python_version<'\"'\"'3.9'\"'\"' and sys_platform == '\"'\"'linux'\"'\"' and platform_machine == '\"'\"'aarch64'\"'\"'' 'numpy==1.21.0; python_version<'\"'\"'3.9'\"'\"' and sys_platform == '\"'\"'darwin'\"'\"' and platform_machine == '\"'\"'arm64'\"'\"'' 'numpy>=2.0.0;  python_version>='\"'\"'3.9'\"'\"'' pip 'scikit-build>=0.14.0' setuptools==59.2.0\n",
      "ERROR: Could not install packages due to an OSError: [WinError 225] Operation did not complete successfully because the file contains a virus or potentially unwanted software\n",
      "\n"
     ]
    },
    {
     "name": "stdout",
     "output_type": "stream",
     "text": [
      "Collecting imgaug\n",
      "  Downloading imgaug-0.4.0-py2.py3-none-any.whl (948 kB)\n",
      "Requirement already satisfied: numpy>=1.15 in c:\\users\\hf\\anaconda3\\envs\\zyx\\lib\\site-packages (from imgaug) (1.19.2)\n",
      "Collecting scikit-image>=0.14.2\n",
      "  Using cached scikit_image-0.17.2-cp36-cp36m-win_amd64.whl (11.5 MB)\n",
      "Requirement already satisfied: six in c:\\users\\hf\\anaconda3\\envs\\zyx\\lib\\site-packages (from imgaug) (1.16.0)\n",
      "Requirement already satisfied: matplotlib in c:\\users\\hf\\anaconda3\\envs\\zyx\\lib\\site-packages (from imgaug) (3.3.4)\n",
      "Requirement already satisfied: imageio in c:\\users\\hf\\anaconda3\\envs\\zyx\\lib\\site-packages (from imgaug) (2.9.0)\n",
      "Collecting opencv-python\n",
      "  Using cached opencv-python-4.10.0.84.tar.gz (95.1 MB)\n",
      "  Installing build dependencies: started\n",
      "  Installing build dependencies: finished with status 'error'\n"
     ]
    }
   ],
   "source": [
    "!pip install imgaug"
   ]
  },
  {
   "cell_type": "code",
   "execution_count": 11,
   "id": "a5ba97e3",
   "metadata": {},
   "outputs": [
    {
     "name": "stdout",
     "output_type": "stream",
     "text": [
      "Invalid line in label file: dog\n",
      "Invalid line in label file: person\n",
      "Invalid line in label file: cat\n",
      "Invalid line in label file: tv\n",
      "Invalid line in label file: car\n",
      "Invalid line in label file: meatballs\n",
      "Invalid line in label file: marinara sauce\n",
      "Invalid line in label file: tomato soup\n",
      "Invalid line in label file: chicken noodle soup\n",
      "Invalid line in label file: french onion soup\n",
      "Invalid line in label file: chicken breast\n",
      "Invalid line in label file: ribs\n",
      "Invalid line in label file: pulled pork\n",
      "Invalid line in label file: hamburger\n",
      "Invalid line in label file: cavity\n",
      "Invalid line in label file: id\n",
      "Invalid line in label file: logo1\n"
     ]
    },
    {
     "ename": "TypeError",
     "evalue": "int() argument must be a string, a bytes-like object or a number, not 'NoneType'",
     "output_type": "error",
     "traceback": [
      "\u001b[1;31m---------------------------------------------------------------------------\u001b[0m",
      "\u001b[1;31mTypeError\u001b[0m                                 Traceback (most recent call last)",
      "\u001b[1;32m<ipython-input-11-fb2f089c051f>\u001b[0m in \u001b[0;36m<module>\u001b[1;34m\u001b[0m\n\u001b[0;32m     78\u001b[0m         \u001b[1;32mwith\u001b[0m \u001b[0mopen\u001b[0m\u001b[1;33m(\u001b[0m\u001b[0maug_label_path\u001b[0m\u001b[1;33m,\u001b[0m \u001b[1;34m'w'\u001b[0m\u001b[1;33m)\u001b[0m \u001b[1;32mas\u001b[0m \u001b[0mf\u001b[0m\u001b[1;33m:\u001b[0m\u001b[1;33m\u001b[0m\u001b[1;33m\u001b[0m\u001b[0m\n\u001b[0;32m     79\u001b[0m             \u001b[1;32mfor\u001b[0m \u001b[0mbbox\u001b[0m \u001b[1;32min\u001b[0m \u001b[0maugmented_bboxes\u001b[0m\u001b[1;33m.\u001b[0m\u001b[0mbounding_boxes\u001b[0m\u001b[1;33m:\u001b[0m\u001b[1;33m\u001b[0m\u001b[1;33m\u001b[0m\u001b[0m\n\u001b[1;32m---> 80\u001b[1;33m                 \u001b[0mclass_id\u001b[0m \u001b[1;33m=\u001b[0m \u001b[0mint\u001b[0m\u001b[1;33m(\u001b[0m\u001b[0mbbox\u001b[0m\u001b[1;33m.\u001b[0m\u001b[0mlabel\u001b[0m\u001b[1;33m)\u001b[0m\u001b[1;33m\u001b[0m\u001b[1;33m\u001b[0m\u001b[0m\n\u001b[0m\u001b[0;32m     81\u001b[0m                 \u001b[0mx_center\u001b[0m \u001b[1;33m=\u001b[0m \u001b[1;33m(\u001b[0m\u001b[0mbbox\u001b[0m\u001b[1;33m.\u001b[0m\u001b[0mx1\u001b[0m \u001b[1;33m+\u001b[0m \u001b[0mbbox\u001b[0m\u001b[1;33m.\u001b[0m\u001b[0mx2\u001b[0m\u001b[1;33m)\u001b[0m \u001b[1;33m/\u001b[0m \u001b[1;36m2\u001b[0m \u001b[1;33m/\u001b[0m \u001b[0maugmented_image\u001b[0m\u001b[1;33m.\u001b[0m\u001b[0mshape\u001b[0m\u001b[1;33m[\u001b[0m\u001b[1;36m1\u001b[0m\u001b[1;33m]\u001b[0m\u001b[1;33m\u001b[0m\u001b[1;33m\u001b[0m\u001b[0m\n\u001b[0;32m     82\u001b[0m                 \u001b[0my_center\u001b[0m \u001b[1;33m=\u001b[0m \u001b[1;33m(\u001b[0m\u001b[0mbbox\u001b[0m\u001b[1;33m.\u001b[0m\u001b[0my1\u001b[0m \u001b[1;33m+\u001b[0m \u001b[0mbbox\u001b[0m\u001b[1;33m.\u001b[0m\u001b[0my2\u001b[0m\u001b[1;33m)\u001b[0m \u001b[1;33m/\u001b[0m \u001b[1;36m2\u001b[0m \u001b[1;33m/\u001b[0m \u001b[0maugmented_image\u001b[0m\u001b[1;33m.\u001b[0m\u001b[0mshape\u001b[0m\u001b[1;33m[\u001b[0m\u001b[1;36m0\u001b[0m\u001b[1;33m]\u001b[0m\u001b[1;33m\u001b[0m\u001b[1;33m\u001b[0m\u001b[0m\n",
      "\u001b[1;31mTypeError\u001b[0m: int() argument must be a string, a bytes-like object or a number, not 'NoneType'"
     ]
    }
   ],
   "source": [
    "import os\n",
    "import cv2\n",
    "import imgaug.augmenters as iaa\n",
    "import numpy as np\n",
    "import glob\n",
    "import imgaug as ia\n",
    "\n",
    "# Define directories\n",
    "image_dir = 'Dataset/resized/'\n",
    "label_dir = 'Dataset/labeld/'\n",
    "output_image_dir = 'Dataset/resized2/'\n",
    "output_label_dir = 'Dataset/labeld2/'\n",
    "\n",
    "# Create output directories if they don't exist\n",
    "os.makedirs(output_image_dir, exist_ok=True)\n",
    "os.makedirs(output_label_dir, exist_ok=True)\n",
    "\n",
    "# Define augmentations\n",
    "augmentation = iaa.Sequential([\n",
    "    iaa.Fliplr(0.5),               # Horizontal flip\n",
    "    iaa.Flipud(0.5),               # Vertical flip\n",
    "    iaa.Affine(rotate=(-45, 45)),  # Rotate\n",
    "    iaa.Multiply((0.8, 1.2)),      # Change brightness\n",
    "    iaa.Resize((0.8, 1.2))         # Zoom (changed from Scale to Resize)\n",
    "])\n",
    "\n",
    "# Get all images and labels\n",
    "image_paths = glob.glob(os.path.join(image_dir, '*.jpg'))\n",
    "label_paths = glob.glob(os.path.join(label_dir, '*.txt'))\n",
    "\n",
    "# Apply augmentation and save images and labels\n",
    "for img_path, lbl_path in zip(image_paths, label_paths):\n",
    "    # Read image\n",
    "    image = cv2.imread(img_path)\n",
    "\n",
    "    # Read bounding boxes from label\n",
    "    bboxes = []\n",
    "    with open(lbl_path, 'r') as f:\n",
    "        for line in f.readlines():\n",
    "            parts = line.strip().split()\n",
    "            if len(parts) != 5:\n",
    "                print(f\"Invalid line in label file: {line.strip()}\")\n",
    "                continue  # Skip invalid lines\n",
    "\n",
    "            try:\n",
    "                # Assuming label format: class_id x_center y_center width height\n",
    "                class_id, x_center, y_center, width, height = map(float, parts)\n",
    "                bboxes.append([class_id, x_center, y_center, width, height])\n",
    "            except ValueError:\n",
    "                print(f\"Error converting values in line: {line.strip()}\")\n",
    "                continue  # Skip lines that cause conversion errors\n",
    "\n",
    "    # Convert to imgaug format\n",
    "    bboxes = np.array(bboxes)\n",
    "    if len(bboxes) == 0:  # If no valid bounding boxes, skip this image\n",
    "        continue\n",
    "\n",
    "    # Rescale bounding box coordinates to image dimensions\n",
    "    bboxes[:, 1:5] *= np.array([image.shape[1], image.shape[0], image.shape[1], image.shape[0]])\n",
    "    bboxes_on_image = [ia.BoundingBox(x1=b[1] - b[3]/2, y1=b[2] - b[4]/2, x2=b[1] + b[3]/2, y2=b[2] + b[4]/2) for b in bboxes]\n",
    "    bboxes_on_image = ia.BoundingBoxesOnImage(bboxes_on_image, shape=image.shape)\n",
    "\n",
    "    # Apply augmentations multiple times\n",
    "    for i in range(5):  # Perform 5 augmentations for each image\n",
    "        # Apply augmentation\n",
    "        augmented = augmentation(image=image, bounding_boxes=bboxes_on_image)\n",
    "\n",
    "        # Extract augmented image and bounding boxes\n",
    "        augmented_image = augmented[0]  # Get the first element which is the image\n",
    "        augmented_bboxes = augmented[1]  # Get the second element which is bounding boxes\n",
    "\n",
    "        # Save augmented image\n",
    "        aug_image_path = os.path.join(output_image_dir, f'aug_{i}_{os.path.basename(img_path)}')\n",
    "        cv2.imwrite(aug_image_path, augmented_image)\n",
    "\n",
    "        # Save augmented labels\n",
    "        aug_label_path = os.path.join(output_label_dir, f'aug_{i}_{os.path.basename(lbl_path)}')\n",
    "        with open(aug_label_path, 'w') as f:\n",
    "            for bbox in augmented_bboxes.bounding_boxes:\n",
    "                if bbox.label is not None:  # Check for valid label\n",
    "                    class_id = int(bbox.label)\n",
    "                    x_center = (bbox.x1 + bbox.x2) / 2 / augmented_image.shape[1]\n",
    "                    y_center = (bbox.y1 + bbox.y2) / 2 / augmented_image.shape[0]\n",
    "                    width = (bbox.x2 - bbox.x1) / augmented_image.shape[1]\n",
    "                    height = (bbox.y2 - bbox.y1) / augmented_image.shape[0]\n",
    "                    f.write(f'{class_id} {x_center} {y_center} {width} {height}\\n')\n",
    "\n",
    "    # Also save the original image and label\n",
    "    cv2.imwrite(os.path.join(output_image_dir, os.path.basename(img_path)), image)\n",
    "    with open(os.path.join(output_label_dir, os.path.basename(lbl_path)), 'w') as f:\n",
    "        for bbox in bboxes_on_image.bounding_boxes:\n",
    "            if bbox.label is not None:  # Check for valid label\n",
    "                class_id = int(bbox.label)\n",
    "                x_center = (bbox.x1 + bbox.x2) / 2 / image.shape[1]\n",
    "                y_center = (bbox.y1 + bbox.y2) / 2 / image.shape[0]\n",
    "                width = (bbox.x2 - bbox.x1) / image.shape[1]\n",
    "                height = (bbox.y2 - bbox.y1) / image.shape[0]\n",
    "                f.write(f'{class_id} {x_center} {y_center} {width} {height}\\n')\n"
   ]
  },
  {
   "cell_type": "code",
   "execution_count": null,
   "id": "b3780c86",
   "metadata": {},
   "outputs": [],
   "source": [
    "!python --version"
   ]
  },
  {
   "cell_type": "code",
   "execution_count": null,
   "id": "a5ccb81a",
   "metadata": {},
   "outputs": [],
   "source": []
  }
 ],
 "metadata": {
  "kernelspec": {
   "display_name": "Python 3",
   "language": "python",
   "name": "python3"
  },
  "language_info": {
   "codemirror_mode": {
    "name": "ipython",
    "version": 3
   },
   "file_extension": ".py",
   "mimetype": "text/x-python",
   "name": "python",
   "nbconvert_exporter": "python",
   "pygments_lexer": "ipython3",
   "version": "3.6.13"
  }
 },
 "nbformat": 4,
 "nbformat_minor": 5
}
